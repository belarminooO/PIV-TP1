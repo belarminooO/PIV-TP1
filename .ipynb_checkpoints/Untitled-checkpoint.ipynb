{
 "cells": [
  {
   "cell_type": "code",
   "execution_count": 26,
   "id": "5808c25a-020b-489c-b55b-1444a8621d41",
   "metadata": {},
   "outputs": [],
   "source": [
    "import cv2\n",
    "import matplotlib.pyplot as plt\n",
    "import numpy as np\n",
    "import os"
   ]
  },
  {
   "cell_type": "markdown",
   "id": "ae27afed-adb3-4762-b5e8-6f16bd944c14",
   "metadata": {},
   "source": [
    "## FUNCOES"
   ]
  },
  {
   "cell_type": "code",
   "execution_count": null,
   "id": "a3a72362-3db3-4e39-affe-5361800df80e",
   "metadata": {},
   "outputs": [],
   "source": [
    "# funcao para carregar imagens\n",
    "def carregar_imagens(pasta):\n",
    "    imagens = {}\n",
    "    for nome_ficheiro in os.listdir(pasta):\n",
    "        if nome_ficheiro.lower().endswith(('.jpg', '.png', '.jpeg')):\n",
    "            caminho = os.path.join(pasta, nome_ficheiro)\n",
    "            imagem = cv2.imread(caminho)\n",
    "            imagens[nome_ficheiro] = imagem\n",
    "    return imagens"
   ]
  },
  {
   "cell_type": "code",
   "execution_count": null,
   "id": "44e8d124-a6e9-492b-a819-a3f198a8466c",
   "metadata": {},
   "outputs": [],
   "source": [
    "pasta_treino = \"C:\\\\Users\\\\belar\\\\Desktop\\\\ISEL\\\\GIT\\\\PIV-TP1\"\n",
    "imagens = carregar_imagens(pasta_treino)\n",
    "print(f\"{len(imagens)} imagens carregadas.\")\n"
   ]
  },
  {
   "cell_type": "code",
   "execution_count": null,
   "id": "09d809f4-ff8d-4f0f-9b6e-1e255ced4e92",
   "metadata": {},
   "outputs": [],
   "source": [
    "nomes = list(imagens.keys())\n",
    "i = 1\n",
    "nome = nomes[i]\n",
    "img = imagens[nome]\n",
    "\n",
    "cv2.imshow(\"Imagem selecionada\", img)\n",
    "cv2.waitKey(0)\n",
    "cv2.destroyAllWindows()"
   ]
  },
  {
   "cell_type": "code",
   "execution_count": null,
   "id": "81c371b5-62e0-4f81-ba59-91d6c9117a87",
   "metadata": {},
   "outputs": [],
   "source": [
    "nomes"
   ]
  }
 ],
 "metadata": {
  "kernelspec": {
   "display_name": "Python 3 (ipykernel)",
   "language": "python",
   "name": "python3"
  },
  "language_info": {
   "codemirror_mode": {
    "name": "ipython",
    "version": 3
   },
   "file_extension": ".py",
   "mimetype": "text/x-python",
   "name": "python",
   "nbconvert_exporter": "python",
   "pygments_lexer": "ipython3",
   "version": "3.13.8"
  }
 },
 "nbformat": 4,
 "nbformat_minor": 5
}
