{
 "cells": [
  {
   "cell_type": "code",
   "execution_count": 14,
   "id": "5808c25a-020b-489c-b55b-1444a8621d41",
   "metadata": {},
   "outputs": [],
   "source": [
    "import cv2\n",
    "import matplotlib.pyplot as plt\n",
    "import numpy as np\n",
    "import os"
   ]
  },
  {
   "cell_type": "markdown",
   "id": "ae27afed-adb3-4762-b5e8-6f16bd944c14",
   "metadata": {},
   "source": [
    "## FUNCOES"
   ]
  },
  {
   "cell_type": "code",
   "execution_count": 15,
   "id": "a3a72362-3db3-4e39-affe-5361800df80e",
   "metadata": {},
   "outputs": [],
   "source": [
    "def carregar_imagens(pasta):\n",
    "    imagens = {}\n",
    "    for nome_ficheiro in os.listdir(pasta):\n",
    "        if nome_ficheiro.lower().endswith(('.jpg', '.png', '.jpeg')):\n",
    "            caminho = os.path.join(pasta, nome_ficheiro)\n",
    "            imagem = cv2.imread(caminho)\n",
    "            imagens[nome_ficheiro] = imagem\n",
    "    return imagens"
   ]
  },
  {
   "cell_type": "code",
   "execution_count": 16,
   "id": "3933c304-d40f-422f-8cf6-2731c5bd8154",
   "metadata": {},
   "outputs": [],
   "source": [
    "def inverter_mascara(mascara_fundo):\n",
    "    return cv2.bitwise_not(mascara_fundo)"
   ]
  },
  {
   "cell_type": "code",
   "execution_count": 17,
   "id": "1beefee0-069e-4670-bd94-d7f9850071be",
   "metadata": {},
   "outputs": [],
   "source": [
    "def converter_para_hsv(imagem):\n",
    "    return cv2.cvtColor(imagem, cv2.COLOR_BGR2HSV)"
   ]
  },
  {
   "cell_type": "code",
   "execution_count": 18,
   "id": "66b0d7ab-6424-4bc6-be5f-35a345e53bf2",
   "metadata": {},
   "outputs": [],
   "source": [
    "def criar_mascara_fundo_azul(hsv_imagem):\n",
    "    limite_inferior = np.array([90, 60, 0])\n",
    "    limite_superior = np.array([140, 255, 255])\n",
    "    mascara_fundo = cv2.inRange(hsv_imagem, limite_inferior, limite_superior)\n",
    "    return mascara_fundo"
   ]
  },
  {
   "cell_type": "code",
   "execution_count": 19,
   "id": "4fee9219-dd73-421c-af5e-dc8436fb4f3b",
   "metadata": {},
   "outputs": [],
   "source": [
    "def refinar_mascara(mascara):\n",
    "    kernel = cv2.getStructuringElement(cv2.MORPH_RECT, (5, 5))\n",
    "    mascara_fechada = cv2.morphologyEx(mascara, cv2.MORPH_CLOSE, kernel)\n",
    "    mascara_refinada = cv2.morphologyEx(mascara_fechada, cv2.MORPH_OPEN, kernel)\n",
    "    return mascara_refinada"
   ]
  },
  {
   "cell_type": "code",
   "execution_count": 20,
   "id": "8d0773ff-abc9-4776-8766-84ce69ebebc1",
   "metadata": {},
   "outputs": [],
   "source": [
    "def aplicar_mascara(imagem, mascara_refinada):\n",
    "    return cv2.bitwise_and(imagem, imagem, mask=mascara_refinada)"
   ]
  },
  {
   "cell_type": "code",
   "execution_count": 21,
   "id": "73d4f4c4-c12d-4987-8451-1e67aa45e3f5",
   "metadata": {},
   "outputs": [],
   "source": [
    "def exibir_imagem(imagem, janela_nome='Resultado'):\n",
    "    cv2.imshow(janela_nome, imagem)\n",
    "    cv2.waitKey(0)\n",
    "    cv2.destroyAllWindows()"
   ]
  },
  {
   "cell_type": "code",
   "execution_count": 22,
   "id": "84269148-8068-40f1-ba88-d9c29fd3c28d",
   "metadata": {},
   "outputs": [],
   "source": [
    "def gravar_imagem(imagem, nome_arquivo):\n",
    "    cv2.imwrite(nome_arquivo, imagem)"
   ]
  },
  {
   "cell_type": "code",
   "execution_count": 23,
   "id": "59947fc0-774e-47f4-833b-a049f493a453",
   "metadata": {},
   "outputs": [],
   "source": [
    "def binarizar_imagem(imagem):\n",
    "    imagem_cinza = cv2.cvtColor(imagem, cv2.COLOR_BGR2GRAY)\n",
    "    _, imagem_bin = cv2.threshold(imagem_cinza, 127, 255, cv2.THRESH_BINARY)\n",
    "    \n",
    "    return imagem_bin"
   ]
  },
  {
   "cell_type": "markdown",
   "id": "f34c1794-c41a-4fa3-8cc7-abca348e2be0",
   "metadata": {},
   "source": [
    "### Load das imagens"
   ]
  },
  {
   "cell_type": "code",
   "execution_count": 24,
   "id": "44e8d124-a6e9-492b-a819-a3f198a8466c",
   "metadata": {},
   "outputs": [
    {
     "name": "stdout",
     "output_type": "stream",
     "text": [
      "19 imagens carregadas.\n"
     ]
    }
   ],
   "source": [
    "pasta_treino = \"C:\\\\Users\\\\belar\\\\Desktop\\\\ISEL\\\\GIT\\\\PIV-TP1\"\n",
    "imagens = carregar_imagens(pasta_treino)\n",
    "print(len(imagens),\"imagens carregadas.\")"
   ]
  },
  {
   "cell_type": "markdown",
   "id": "e084bad2-fdb4-452c-a70f-42426703217f",
   "metadata": {},
   "source": [
    "### "
   ]
  },
  {
   "cell_type": "code",
   "execution_count": 27,
   "id": "09d809f4-ff8d-4f0f-9b6e-1e255ced4e92",
   "metadata": {},
   "outputs": [],
   "source": [
    "nomes = list(imagens.keys())\n",
    "\n",
    "nome = nomes[1]\n",
    "img = imagens[nome]\n",
    "\n",
    "\n",
    "\n",
    "hsv_img = converter_para_hsv(img)\n",
    "mascara_fundo = criar_mascara_fundo_azul(hsv_img)\n",
    "mascara_objetos = inverter_mascara(mascara_fundo)\n",
    "mascara_refinada = refinar_mascara(mascara_objetos)\n",
    "resultado = aplicar_mascara(img, mascara_objetos)\n",
    "imagem_binarizada = binarizar_imagem(resultado)\n",
    "\n",
    "\n",
    "\n",
    "hsv_img = converter_para_hsv(img)\n",
    "mascara_fundo = criar_mascara_fundo_azul(hsv_img)\n",
    "mascara_objetos = inverter_mascara(mascara_fundo)\n",
    "imagem_isolada = aplicar_mascara(img, mascara_objetos)\n",
    "imagem_bin = binarizar_imagem(imagem_isolada)\n",
    "imagem_refinada = refinar_mascara(imagem_bin)\n",
    "\n",
    "\n",
    "\n",
    "gravar_imagem(mascara_fundo, \"mascara_fundo.jpg\")\n",
    "gravar_imagem(mascara_objetos, \"mascara_objetos.jpg\")\n",
    "gravar_imagem(imagem_isolada, \"imagem_isolada.jpg\")\n",
    "gravar_imagem(imagem_bin, \"imagem_bin.jpg\")\n",
    "gravar_imagem(imagem_refinada, \"imagem_refinada.jpg\")"
   ]
  },
  {
   "cell_type": "code",
   "execution_count": null,
   "id": "20094bac-c75f-4e58-9e1e-d16d8f844b78",
   "metadata": {},
   "outputs": [],
   "source": []
  },
  {
   "cell_type": "code",
   "execution_count": null,
   "id": "fcac95fd-4979-4cc1-8dee-6ce8b21f7d65",
   "metadata": {},
   "outputs": [],
   "source": []
  }
 ],
 "metadata": {
  "kernelspec": {
   "display_name": "Python 3 (ipykernel)",
   "language": "python",
   "name": "python3"
  },
  "language_info": {
   "codemirror_mode": {
    "name": "ipython",
    "version": 3
   },
   "file_extension": ".py",
   "mimetype": "text/x-python",
   "name": "python",
   "nbconvert_exporter": "python",
   "pygments_lexer": "ipython3",
   "version": "3.13.8"
  }
 },
 "nbformat": 4,
 "nbformat_minor": 5
}
