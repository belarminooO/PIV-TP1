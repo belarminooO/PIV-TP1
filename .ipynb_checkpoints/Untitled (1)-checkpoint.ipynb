{
 "cells": [
  {
   "cell_type": "code",
   "execution_count": 275,
   "id": "5808c25a-020b-489c-b55b-1444a8621d41",
   "metadata": {},
   "outputs": [],
   "source": [
    "import cv2\n",
    "import matplotlib.pyplot as plt\n",
    "import numpy as np\n",
    "import os"
   ]
  },
  {
   "cell_type": "markdown",
   "id": "ae27afed-adb3-4762-b5e8-6f16bd944c14",
   "metadata": {},
   "source": [
    "## FUNCOES"
   ]
  },
  {
   "cell_type": "code",
   "execution_count": 347,
   "id": "fcac95fd-4979-4cc1-8dee-6ce8b21f7d65",
   "metadata": {},
   "outputs": [],
   "source": [
    "def carregar_imagens(pasta):\n",
    "    imagens = {}\n",
    "    for nome_ficheiro in os.listdir(pasta):\n",
    "        if nome_ficheiro.lower().endswith(('.jpg', '.png', '.jpeg')):\n",
    "            caminho = os.path.join(pasta, nome_ficheiro)\n",
    "            imagem = cv2.imread(caminho)\n",
    "            imagens[nome_ficheiro] = imagem\n",
    "    return imagens"
   ]
  },
  {
   "cell_type": "code",
   "execution_count": 348,
   "id": "1e309da7-6e65-44be-8b50-e09d70da0a77",
   "metadata": {},
   "outputs": [],
   "source": [
    "def converter_para_rgb(imagem):\n",
    "    return cv2.cvtColor(imagem, cv2.COLOR_BGR2RGB)"
   ]
  },
  {
   "cell_type": "code",
   "execution_count": 504,
   "id": "bc4b9435-96b1-4e92-8a5d-401f43c54390",
   "metadata": {},
   "outputs": [],
   "source": [
    "def refinar_mascara(mascara):\n",
    "    kernel1 = cv2.getStructuringElement(cv2.MORPH_ELLIPSE, (2, 2))\n",
    "    kernel2= cv2.getStructuringElement(cv2.MORPH_ELLIPSE, (7, 7))\n",
    "\n",
    "    mascara_fechada = cv2.morphologyEx(mascara, cv2.MORPH_CLOSE, kernel1)\n",
    "    mascara_refinada = cv2.morphologyEx(mascara_fechada, cv2.MORPH_OPEN, kernel2)\n",
    "    return mascara_refinada"
   ]
  },
  {
   "cell_type": "code",
   "execution_count": 505,
   "id": "e3b6c06b-77c1-4865-a051-84c100f593d0",
   "metadata": {},
   "outputs": [],
   "source": [
    "def aplicar_mascara(imagem, mascara):\n",
    "    return cv2.bitwise_and(imagem, imagem, mask=mascara)"
   ]
  },
  {
   "cell_type": "code",
   "execution_count": 506,
   "id": "62c56fe3-4b81-4aa9-b37c-9cc05b2bd59a",
   "metadata": {},
   "outputs": [],
   "source": [
    "def gravar_imagem(imagem, nome_arquivo):\n",
    "    cv2.imwrite(nome_arquivo, imagem)"
   ]
  },
  {
   "cell_type": "code",
   "execution_count": 507,
   "id": "25ebc0a0-7814-4ad1-86f4-27e5d90f7085",
   "metadata": {},
   "outputs": [],
   "source": [
    "def criar_mascara_por_cor(imagem_rgb, cor_inferior, cor_superior):\n",
    "    mascara = cv2.inRange(imagem_rgb, cor_inferior, cor_superior)\n",
    "    return mascara"
   ]
  },
  {
   "cell_type": "code",
   "execution_count": 508,
   "id": "1f251f70-7be3-452e-948b-d01c592f47d6",
   "metadata": {},
   "outputs": [],
   "source": [
    "def exibir_imagem_cv2(titulo, imagem):\n",
    "    cv2.imshow(titulo, imagem)\n",
    "    cv2.waitKey(0)\n",
    "    cv2.destroyAllWindows()"
   ]
  },
  {
   "cell_type": "code",
   "execution_count": 509,
   "id": "e9515604-821a-479b-aa59-2e8095a8b13b",
   "metadata": {},
   "outputs": [
    {
     "name": "stdout",
     "output_type": "stream",
     "text": [
      "17 imagens carregadas.\n"
     ]
    }
   ],
   "source": [
    "pasta_treino = \"C:\\\\Users\\\\belar\\\\Desktop\\\\ISEL\\\\GIT\\\\PIV-TP1\"\n",
    "imagens = carregar_imagens(pasta_treino)\n",
    "print(len(imagens), \"imagens carregadas.\")"
   ]
  },
  {
   "cell_type": "code",
   "execution_count": 531,
   "id": "f8318d5c-955f-456d-9789-b840f1f6d5c9",
   "metadata": {},
   "outputs": [],
   "source": [
    "#selecao da imagem\n",
    "nomes = list(imagens.keys())\n",
    "nome = nomes[2]\n",
    "img = imagens[nome]\n",
    "\n",
    "#conversao para rgb\n",
    "rgb_img = converter_para_rgb(img)\n",
    "\n",
    "#definicao dos intervalos de cor do fundo\n",
    "fundo_inferior = np.array([85, 0, 0])      \n",
    "fundo_superior = np.array([255, 255, 255])\n",
    "\n",
    "\n",
    "#criacao e aplocacao da mascara\n",
    "mascara_fundo = criar_mascara_por_cor(rgb_img, fundo_inferior, fundo_superior)\n",
    "mascara_refinada = refinar_mascara(mascara_fundo)\n",
    "imagem_isolada = aplicar_mascara(rgb_img, mascara_refinada)\n",
    "\n",
    "\n",
    "#desenho dos contornos dos objectos\n",
    "contornos,_= cv2.findContours(mascara_refinada,cv2.RETR_EXTERNAL,cv2.CHAIN_APPROX_SIMPLE)\n",
    "\n",
    "\n",
    "#desenho dos contornos na imagem original\n",
    "imagem_com_contornos = img.copy()\n",
    "cv2.drawContours(imagem_com_contornos, contornos, -1, (0, 255, 0), 2)\n",
    "\n",
    "\n",
    "#exibicao das imagens\n",
    "exibir_imagem_cv2(\"Imagem original\", img)\n",
    "exibir_imagem_cv2(\"Máscara refinada\", mascara_refinada)\n",
    "exibir_imagem_cv2(\"Contornos na imagem original\", imagem_com_contornos)\n",
    "\n",
    "\n",
    "#gravacao das imagens\n",
    "gravar_imagem(cv2.cvtColor(mascara_refinada, cv2.COLOR_GRAY2BGR), \"mascara_refinada.jpg\")\n",
    "gravar_imagem(cv2.cvtColor(imagem_isolada, cv2.COLOR_RGB2BGR), \"imagem_isolada.jpg\")\n",
    "gravar_imagem(imagem_com_contornos, \"imagem_com_contornos.jpg\")"
   ]
  },
  {
   "cell_type": "code",
   "execution_count": null,
   "id": "6782069f-44ae-4bb1-8034-3384da86dc53",
   "metadata": {},
   "outputs": [],
   "source": []
  },
  {
   "cell_type": "code",
   "execution_count": null,
   "id": "21013822-b5cb-47eb-ad23-8a0771b24be6",
   "metadata": {},
   "outputs": [],
   "source": []
  },
  {
   "cell_type": "code",
   "execution_count": null,
   "id": "6b567e21-b71f-4925-940a-6213ab33afa9",
   "metadata": {},
   "outputs": [],
   "source": []
  }
 ],
 "metadata": {
  "kernelspec": {
   "display_name": "Python 3 (ipykernel)",
   "language": "python",
   "name": "python3"
  },
  "language_info": {
   "codemirror_mode": {
    "name": "ipython",
    "version": 3
   },
   "file_extension": ".py",
   "mimetype": "text/x-python",
   "name": "python",
   "nbconvert_exporter": "python",
   "pygments_lexer": "ipython3",
   "version": "3.13.8"
  }
 },
 "nbformat": 4,
 "nbformat_minor": 5
}
