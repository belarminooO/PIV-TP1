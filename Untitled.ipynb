{
 "cells": [
  {
   "cell_type": "code",
   "execution_count": 58,
   "id": "5808c25a-020b-489c-b55b-1444a8621d41",
   "metadata": {},
   "outputs": [],
   "source": [
    "import cv2\n",
    "import matplotlib.pyplot as plt\n",
    "import numpy as np\n",
    "import os"
   ]
  },
  {
   "cell_type": "markdown",
   "id": "ae27afed-adb3-4762-b5e8-6f16bd944c14",
   "metadata": {},
   "source": [
    "## FUNCOES"
   ]
  },
  {
   "cell_type": "code",
   "execution_count": 75,
   "id": "a3a72362-3db3-4e39-affe-5361800df80e",
   "metadata": {},
   "outputs": [],
   "source": [
    "#FUNCAO PARA CARREGAR AS IMAGENS\n",
    "def carregar_imagens(pasta):\n",
    "    imagens = {}\n",
    "    for nome_ficheiro in os.listdir(pasta):\n",
    "        if nome_ficheiro.lower().endswith(('.jpg', '.png', '.jpeg')):\n",
    "            caminho = os.path.join(pasta, nome_ficheiro)\n",
    "            imagem = cv2.imread(caminho)\n",
    "            imagens[nome_ficheiro] = imagem\n",
    "    return imagens"
   ]
  },
  {
   "cell_type": "code",
   "execution_count": 76,
   "id": "1beefee0-069e-4670-bd94-d7f9850071be",
   "metadata": {},
   "outputs": [],
   "source": [
    "def converter_para_hsv(imagem):\n",
    "    \"\"\"Converte a imagem de BGR para HSV.\"\"\"\n",
    "    return cv2.cvtColor(imagem, cv2.COLOR_BGR2HSV)"
   ]
  },
  {
   "cell_type": "code",
   "execution_count": 77,
   "id": "66b0d7ab-6424-4bc6-be5f-35a345e53bf2",
   "metadata": {},
   "outputs": [],
   "source": [
    "def criar_mascara_azul(hsv_imagem, limite_inferior, limite_superior):\n",
    "    \"\"\"Cria uma máscara para a cor azul.\"\"\"\n",
    "    return cv2.inRange(hsv_imagem, limite_inferior, limite_superior)"
   ]
  },
  {
   "cell_type": "code",
   "execution_count": 78,
   "id": "4fee9219-dd73-421c-af5e-dc8436fb4f3b",
   "metadata": {},
   "outputs": [],
   "source": [
    "def refinar_mascara(mascara):\n",
    "    \"\"\"Refina a máscara utilizando operações morfológicas de abertura e fechamento.\"\"\"\n",
    "    kernel = np.ones((5, 5), np.uint8)\n",
    "    mascara_refinada = cv2.morphologyEx(mascara, cv2.MORPH_CLOSE, kernel)\n",
    "    return cv2.morphologyEx(mascara_refinada, cv2.MORPH_OPEN, kernel)"
   ]
  },
  {
   "cell_type": "code",
   "execution_count": 79,
   "id": "8d0773ff-abc9-4776-8766-84ce69ebebc1",
   "metadata": {},
   "outputs": [],
   "source": [
    "def aplicar_mascara(imagem, mascara_refinada):\n",
    "    \"\"\"Aplica a máscara refinada para manter apenas as peças de Lego.\"\"\"\n",
    "    return cv2.bitwise_and(imagem, imagem, mask=mascara_refinada)"
   ]
  },
  {
   "cell_type": "code",
   "execution_count": 80,
   "id": "73d4f4c4-c12d-4987-8451-1e67aa45e3f5",
   "metadata": {},
   "outputs": [],
   "source": [
    "def exibir_imagem(imagem, janela_nome='Resultado'):\n",
    "    \"\"\"Exibe a imagem em uma janela do OpenCV.\"\"\"\n",
    "    cv2.imshow(janela_nome, imagem)\n",
    "    cv2.waitKey(0)\n",
    "    cv2.destroyAllWindows()"
   ]
  },
  {
   "cell_type": "code",
   "execution_count": 81,
   "id": "84269148-8068-40f1-ba88-d9c29fd3c28d",
   "metadata": {},
   "outputs": [],
   "source": [
    "def gravar_imagem(imagem, nome_arquivo):\n",
    "    \"\"\"Grava a imagem no caminho especificado com o nome fornecido.\"\"\"\n",
    "    cv2.imwrite(nome_arquivo, imagem)"
   ]
  },
  {
   "cell_type": "markdown",
   "id": "f34c1794-c41a-4fa3-8cc7-abca348e2be0",
   "metadata": {},
   "source": [
    "### Load das imagens"
   ]
  },
  {
   "cell_type": "code",
   "execution_count": 82,
   "id": "44e8d124-a6e9-492b-a819-a3f198a8466c",
   "metadata": {},
   "outputs": [
    {
     "name": "stdout",
     "output_type": "stream",
     "text": [
      "15 imagens carregadas.\n"
     ]
    }
   ],
   "source": [
    "pasta_treino = \"C:\\\\Users\\\\belar\\\\Desktop\\\\ISEL\\\\GIT\\\\PIV-TP1\"\n",
    "imagens = carregar_imagens(pasta_treino)\n",
    "print(len(imagens),\"imagens carregadas.\")"
   ]
  },
  {
   "cell_type": "markdown",
   "id": "e084bad2-fdb4-452c-a70f-42426703217f",
   "metadata": {},
   "source": [
    "### "
   ]
  },
  {
   "cell_type": "code",
   "execution_count": 83,
   "id": "09d809f4-ff8d-4f0f-9b6e-1e255ced4e92",
   "metadata": {},
   "outputs": [],
   "source": [
    "nomes = list(imagens.keys())\n",
    "\n",
    "nome = nomes[1]\n",
    "img = imagens[nome]\n",
    "\n",
    "\n",
    "hsv_img = converter_para_hsv(img)\n",
    "\n",
    "limite_inferior = np.array([100, 150, 0])\n",
    "limite_superior = np.array([140, 255, 255])\n",
    "\n",
    "mascara_azul = criar_mascara_azul(hsv_img, limite_inferior, limite_superior)\n",
    "mascara_invertida = cv2.bitwise_not(mascara_azul)\n",
    "\n",
    "mascara_refinada = refinar_mascara(mascara_invertida)\n",
    "resultado = aplicar_mascara(img, mascara_refinada)\n",
    "\n",
    "\n",
    "nome_arquivo = 'resultado_refenidado_Operadores_m.jpg'\n",
    "    \n",
    "# Gravar a imagem processada com o nome especificado\n",
    "gravar_imagem(resultado, nome_arquivo)\n",
    "exibir_imagem(resultado)"
   ]
  },
  {
   "cell_type": "code",
   "execution_count": 84,
   "id": "5f724124-e8a0-4ce0-b7b2-1841928657fb",
   "metadata": {},
   "outputs": [
    {
     "data": {
      "text/plain": [
       "'resultadoComRefinacao.jpg'"
      ]
     },
     "execution_count": 84,
     "metadata": {},
     "output_type": "execute_result"
    }
   ],
   "source": []
  },
  {
   "cell_type": "code",
   "execution_count": null,
   "id": "20094bac-c75f-4e58-9e1e-d16d8f844b78",
   "metadata": {},
   "outputs": [],
   "source": []
  }
 ],
 "metadata": {
  "kernelspec": {
   "display_name": "Python 3 (ipykernel)",
   "language": "python",
   "name": "python3"
  },
  "language_info": {
   "codemirror_mode": {
    "name": "ipython",
    "version": 3
   },
   "file_extension": ".py",
   "mimetype": "text/x-python",
   "name": "python",
   "nbconvert_exporter": "python",
   "pygments_lexer": "ipython3",
   "version": "3.13.8"
  }
 },
 "nbformat": 4,
 "nbformat_minor": 5
}
